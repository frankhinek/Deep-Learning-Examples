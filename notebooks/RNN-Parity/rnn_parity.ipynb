{
 "cells": [
  {
   "cell_type": "markdown",
   "metadata": {},
   "source": [
    "![](images/title-background.png)\n",
    "<img src=\"images/example.png\" alt=\"Drawing\" style=\"float: center; width: 90%;\"/>\n",
    "&nbsp;\n",
    "\n",
    "&nbsp;\n",
    "\n",
    "&nbsp;"
   ]
  },
  {
   "cell_type": "code",
   "execution_count": 1,
   "metadata": {},
   "outputs": [
    {
     "name": "stderr",
     "output_type": "stream",
     "text": [
      "Using TensorFlow backend.\n"
     ]
    }
   ],
   "source": [
    "import numpy as np\n",
    "import tensorflow as tf\n",
    "from keras.models import Sequential\n",
    "from keras.layers import Dense, LSTM\n",
    "import matplotlib.pyplot as plt\n",
    "from ipywidgets import FloatProgress, HBox, VBox, HTML, Layout, Button, Box\n",
    "from IPython.display import display\n",
    "from utils import *\n",
    "%matplotlib inline\n",
    "%config InlineBackend.figure_format = 'retina'"
   ]
  },
  {
   "cell_type": "code",
   "execution_count": 2,
   "metadata": {
    "collapsed": true
   },
   "outputs": [],
   "source": [
    "# =======================\n",
    "#  PARITY DATA GENERATOR\n",
    "# =======================\n",
    "\n",
    "class ParitySequenceData(object):\n",
    "    \"\"\" Generate sequences of parity data.\n",
    "    This class generates samples for training, validation, and testing.\n",
    "\n",
    "    Examples:\n",
    "        [1, 1, 1, 0, 0, 1, 1, 1]\n",
    "        [0, 0, 0, 0, 1, 0, 1, 0]\n",
    "    \"\"\"\n",
    "    def __init__(self, n_samples=10000, seq_len=2, ndmin=2, seed=101):\n",
    "        self.data = []\n",
    "        self.labels = []\n",
    "        self.batch_id = 0\n",
    "        \n",
    "        np.random.seed(seed)\n",
    "        self.data = np.random.randint(0, 2, (n_samples, seq_len))\n",
    "        self.labels = self.data.sum(axis=1, keepdims=True) % 2            \n",
    "        \n",
    "        # Expand dimensions if using a framework that expects a different data format\n",
    "        if ndmin == 3:\n",
    "            self.data = np.expand_dims(self.data, axis=2)\n",
    "\n",
    "    def next(self, batch_size):\n",
    "        \"\"\" Return a batch of data. When dataset end is reached, start over.\n",
    "        \"\"\"\n",
    "        if self.batch_id == len(self.data):\n",
    "            self.batch_id = 0\n",
    "        \n",
    "        batch_data = (self.data[self.batch_id:min(self.batch_id + batch_size, len(self.data))])\n",
    "        batch_labels = (self.labels[self.batch_id:min(self.batch_id + batch_size, len(self.data))])\n",
    "        self.batch_id = min(self.batch_id + batch_size, len(self.data))\n",
    "        \n",
    "        return batch_data, batch_labels\n",
    "    \n",
    "    def reset_batch(self):\n",
    "        self.batch_id = 0"
   ]
  },
  {
   "cell_type": "markdown",
   "metadata": {},
   "source": [
    "![](images/title-ann-10.png)\n",
    "<img src=\"images/nn-10.png\" alt=\"Drawing\" style=\"float: center; width: 75%;\"/>"
   ]
  },
  {
   "cell_type": "code",
   "execution_count": 3,
   "metadata": {
    "collapsed": true
   },
   "outputs": [],
   "source": [
    "# =======================\n",
    "#  HYPERPARAMETERS\n",
    "# =======================\n",
    "\n",
    "seq_len = 10\n",
    "hidden_units = [10]\n",
    "\n",
    "n_samples_train = 10000\n",
    "n_samples_test = 100\n",
    "batch_size = 10\n",
    "n_epochs_train = 10000\n",
    "n_epochs_eval = 1\n",
    "n_steps_train = 10000"
   ]
  },
  {
   "cell_type": "code",
   "execution_count": 4,
   "metadata": {
    "collapsed": true
   },
   "outputs": [],
   "source": [
    "X_train = ParitySequenceData(n_samples=n_samples_train, seq_len=seq_len)\n",
    "X_test = ParitySequenceData(n_samples=n_samples_test, seq_len=seq_len)"
   ]
  },
  {
   "cell_type": "markdown",
   "metadata": {},
   "source": [
    "### Define Feature Colums"
   ]
  },
  {
   "cell_type": "code",
   "execution_count": 5,
   "metadata": {
    "collapsed": true
   },
   "outputs": [],
   "source": [
    "feat_cols = [tf.feature_column.numeric_column('x',shape=(seq_len, 1))]"
   ]
  },
  {
   "cell_type": "markdown",
   "metadata": {},
   "source": [
    "### Define Input Function"
   ]
  },
  {
   "cell_type": "code",
   "execution_count": 6,
   "metadata": {
    "collapsed": true
   },
   "outputs": [],
   "source": [
    "input_func = tf.estimator.inputs.numpy_input_fn({'x': X_train.data},y=X_train.labels,\n",
    "                                                batch_size=batch_size,\n",
    "                                                num_epochs=n_epochs_train,\n",
    "                                                shuffle=True)"
   ]
  },
  {
   "cell_type": "markdown",
   "metadata": {},
   "source": [
    "### Define Evaluation Function"
   ]
  },
  {
   "cell_type": "code",
   "execution_count": 7,
   "metadata": {
    "collapsed": true
   },
   "outputs": [],
   "source": [
    "eval_input_func = tf.estimator.inputs.numpy_input_fn({'x': X_test.data}, y=X_test.labels,\n",
    "                                                     batch_size=batch_size,\n",
    "                                                     num_epochs=n_epochs_eval,\n",
    "                                                     shuffle=False)"
   ]
  },
  {
   "cell_type": "markdown",
   "metadata": {},
   "source": [
    "### Build the Model"
   ]
  },
  {
   "cell_type": "code",
   "execution_count": 8,
   "metadata": {},
   "outputs": [
    {
     "name": "stdout",
     "output_type": "stream",
     "text": [
      "INFO:tensorflow:Using default config.\n",
      "WARNING:tensorflow:Using temporary folder as model directory: /var/folders/jb/jsd15ynn7c7b2c1s8zl3zr380000gn/T/tmpyf9hia7k\n",
      "INFO:tensorflow:Using config: {'_model_dir': '/var/folders/jb/jsd15ynn7c7b2c1s8zl3zr380000gn/T/tmpyf9hia7k', '_tf_random_seed': None, '_save_summary_steps': 100, '_save_checkpoints_steps': None, '_save_checkpoints_secs': 600, '_session_config': None, '_keep_checkpoint_max': 5, '_keep_checkpoint_every_n_hours': 10000, '_log_step_count_steps': 100, '_service': None, '_cluster_spec': <tensorflow.python.training.server_lib.ClusterSpec object at 0x10db2e9e8>, '_task_type': 'worker', '_task_id': 0, '_master': '', '_is_chief': True, '_num_ps_replicas': 0, '_num_worker_replicas': 1}\n"
     ]
    }
   ],
   "source": [
    "model = tf.estimator.DNNClassifier(hidden_units=hidden_units,\n",
    "                                   feature_columns=feat_cols,\n",
    "                                   n_classes=2,\n",
    "                                   activation_fn=tf.nn.relu)"
   ]
  },
  {
   "cell_type": "markdown",
   "metadata": {},
   "source": [
    "### Train the Model"
   ]
  },
  {
   "cell_type": "code",
   "execution_count": 9,
   "metadata": {},
   "outputs": [
    {
     "name": "stdout",
     "output_type": "stream",
     "text": [
      "INFO:tensorflow:Create CheckpointSaverHook.\n",
      "INFO:tensorflow:Saving checkpoints for 1 into /var/folders/jb/jsd15ynn7c7b2c1s8zl3zr380000gn/T/tmpyf9hia7k/model.ckpt.\n",
      "INFO:tensorflow:loss = 9.90164, step = 1\n",
      "INFO:tensorflow:global_step/sec: 863.26\n",
      "INFO:tensorflow:loss = 6.68644, step = 101 (0.117 sec)\n",
      "INFO:tensorflow:global_step/sec: 1239.97\n",
      "INFO:tensorflow:loss = 6.58508, step = 201 (0.081 sec)\n",
      "INFO:tensorflow:global_step/sec: 1229.82\n",
      "INFO:tensorflow:loss = 6.97614, step = 301 (0.081 sec)\n",
      "INFO:tensorflow:global_step/sec: 1318.39\n",
      "INFO:tensorflow:loss = 7.02418, step = 401 (0.076 sec)\n",
      "INFO:tensorflow:global_step/sec: 1337.79\n",
      "INFO:tensorflow:loss = 7.45818, step = 501 (0.075 sec)\n",
      "INFO:tensorflow:global_step/sec: 1090.47\n",
      "INFO:tensorflow:loss = 7.10576, step = 601 (0.092 sec)\n",
      "INFO:tensorflow:global_step/sec: 1260.63\n",
      "INFO:tensorflow:loss = 7.35024, step = 701 (0.079 sec)\n",
      "INFO:tensorflow:global_step/sec: 1370.79\n",
      "INFO:tensorflow:loss = 6.96698, step = 801 (0.073 sec)\n",
      "INFO:tensorflow:global_step/sec: 1230.45\n",
      "INFO:tensorflow:loss = 6.99034, step = 901 (0.082 sec)\n",
      "INFO:tensorflow:global_step/sec: 1213.66\n",
      "INFO:tensorflow:loss = 6.9297, step = 1001 (0.082 sec)\n",
      "INFO:tensorflow:global_step/sec: 1400.48\n",
      "INFO:tensorflow:loss = 6.41604, step = 1101 (0.071 sec)\n",
      "INFO:tensorflow:global_step/sec: 1275.93\n",
      "INFO:tensorflow:loss = 6.85754, step = 1201 (0.078 sec)\n",
      "INFO:tensorflow:global_step/sec: 1339.55\n",
      "INFO:tensorflow:loss = 6.72598, step = 1301 (0.075 sec)\n",
      "INFO:tensorflow:global_step/sec: 1386.21\n",
      "INFO:tensorflow:loss = 6.92697, step = 1401 (0.072 sec)\n",
      "INFO:tensorflow:global_step/sec: 1388.36\n",
      "INFO:tensorflow:loss = 7.05406, step = 1501 (0.072 sec)\n",
      "INFO:tensorflow:global_step/sec: 1376.2\n",
      "INFO:tensorflow:loss = 7.286, step = 1601 (0.073 sec)\n",
      "INFO:tensorflow:global_step/sec: 1411.05\n",
      "INFO:tensorflow:loss = 6.95157, step = 1701 (0.071 sec)\n",
      "INFO:tensorflow:global_step/sec: 1409.62\n",
      "INFO:tensorflow:loss = 6.76213, step = 1801 (0.071 sec)\n",
      "INFO:tensorflow:global_step/sec: 1340.16\n",
      "INFO:tensorflow:loss = 7.12755, step = 1901 (0.075 sec)\n",
      "INFO:tensorflow:global_step/sec: 1382.22\n",
      "INFO:tensorflow:loss = 7.09648, step = 2001 (0.072 sec)\n",
      "INFO:tensorflow:global_step/sec: 1415.31\n",
      "INFO:tensorflow:loss = 6.23128, step = 2101 (0.071 sec)\n",
      "INFO:tensorflow:global_step/sec: 1379.84\n",
      "INFO:tensorflow:loss = 6.52118, step = 2201 (0.073 sec)\n",
      "INFO:tensorflow:global_step/sec: 1343.29\n",
      "INFO:tensorflow:loss = 5.89194, step = 2301 (0.074 sec)\n",
      "INFO:tensorflow:global_step/sec: 1376.62\n",
      "INFO:tensorflow:loss = 6.65461, step = 2401 (0.073 sec)\n",
      "INFO:tensorflow:global_step/sec: 1432.13\n",
      "INFO:tensorflow:loss = 6.76428, step = 2501 (0.070 sec)\n",
      "INFO:tensorflow:global_step/sec: 1356.19\n",
      "INFO:tensorflow:loss = 6.78689, step = 2601 (0.074 sec)\n",
      "INFO:tensorflow:global_step/sec: 1420.94\n",
      "INFO:tensorflow:loss = 6.9649, step = 2701 (0.070 sec)\n",
      "INFO:tensorflow:global_step/sec: 1370.78\n",
      "INFO:tensorflow:loss = 7.10555, step = 2801 (0.073 sec)\n",
      "INFO:tensorflow:global_step/sec: 1322.19\n",
      "INFO:tensorflow:loss = 6.86563, step = 2901 (0.076 sec)\n",
      "INFO:tensorflow:global_step/sec: 1338.75\n",
      "INFO:tensorflow:loss = 6.32963, step = 3001 (0.075 sec)\n",
      "INFO:tensorflow:global_step/sec: 1337.02\n",
      "INFO:tensorflow:loss = 6.08362, step = 3101 (0.075 sec)\n",
      "INFO:tensorflow:global_step/sec: 1367.2\n",
      "INFO:tensorflow:loss = 5.98313, step = 3201 (0.073 sec)\n",
      "INFO:tensorflow:global_step/sec: 1339.98\n",
      "INFO:tensorflow:loss = 6.06633, step = 3301 (0.075 sec)\n",
      "INFO:tensorflow:global_step/sec: 1418.06\n",
      "INFO:tensorflow:loss = 6.63719, step = 3401 (0.071 sec)\n",
      "INFO:tensorflow:global_step/sec: 1395.21\n",
      "INFO:tensorflow:loss = 6.80836, step = 3501 (0.072 sec)\n",
      "INFO:tensorflow:global_step/sec: 1363.57\n",
      "INFO:tensorflow:loss = 7.38743, step = 3601 (0.073 sec)\n",
      "INFO:tensorflow:global_step/sec: 1393.38\n",
      "INFO:tensorflow:loss = 6.64431, step = 3701 (0.072 sec)\n",
      "INFO:tensorflow:global_step/sec: 1422.97\n",
      "INFO:tensorflow:loss = 6.17312, step = 3801 (0.070 sec)\n",
      "INFO:tensorflow:global_step/sec: 1418.52\n",
      "INFO:tensorflow:loss = 7.11035, step = 3901 (0.070 sec)\n",
      "INFO:tensorflow:global_step/sec: 1363.49\n",
      "INFO:tensorflow:loss = 6.25318, step = 4001 (0.073 sec)\n",
      "INFO:tensorflow:global_step/sec: 1437.4\n",
      "INFO:tensorflow:loss = 6.2755, step = 4101 (0.070 sec)\n",
      "INFO:tensorflow:global_step/sec: 1409.72\n",
      "INFO:tensorflow:loss = 6.76078, step = 4201 (0.071 sec)\n",
      "INFO:tensorflow:global_step/sec: 1369.6\n",
      "INFO:tensorflow:loss = 5.99631, step = 4301 (0.073 sec)\n",
      "INFO:tensorflow:global_step/sec: 1396.47\n",
      "INFO:tensorflow:loss = 6.13769, step = 4401 (0.071 sec)\n",
      "INFO:tensorflow:global_step/sec: 1402.19\n",
      "INFO:tensorflow:loss = 6.2319, step = 4501 (0.071 sec)\n",
      "INFO:tensorflow:global_step/sec: 1353.75\n",
      "INFO:tensorflow:loss = 7.22466, step = 4601 (0.074 sec)\n",
      "INFO:tensorflow:global_step/sec: 1287.5\n",
      "INFO:tensorflow:loss = 6.46486, step = 4701 (0.078 sec)\n",
      "INFO:tensorflow:global_step/sec: 1230.62\n",
      "INFO:tensorflow:loss = 7.36413, step = 4801 (0.081 sec)\n",
      "INFO:tensorflow:global_step/sec: 1219.78\n",
      "INFO:tensorflow:loss = 6.22282, step = 4901 (0.083 sec)\n",
      "INFO:tensorflow:global_step/sec: 1209.72\n",
      "INFO:tensorflow:loss = 6.09763, step = 5001 (0.082 sec)\n",
      "INFO:tensorflow:global_step/sec: 1256.56\n",
      "INFO:tensorflow:loss = 7.11154, step = 5101 (0.079 sec)\n",
      "INFO:tensorflow:global_step/sec: 1235.87\n",
      "INFO:tensorflow:loss = 6.02778, step = 5201 (0.081 sec)\n",
      "INFO:tensorflow:global_step/sec: 1229.5\n",
      "INFO:tensorflow:loss = 7.33203, step = 5301 (0.082 sec)\n",
      "INFO:tensorflow:global_step/sec: 1284.82\n",
      "INFO:tensorflow:loss = 6.96769, step = 5401 (0.078 sec)\n",
      "INFO:tensorflow:global_step/sec: 1261.27\n",
      "INFO:tensorflow:loss = 5.24967, step = 5501 (0.080 sec)\n",
      "INFO:tensorflow:global_step/sec: 1270.22\n",
      "INFO:tensorflow:loss = 7.00038, step = 5601 (0.079 sec)\n",
      "INFO:tensorflow:global_step/sec: 1292.79\n",
      "INFO:tensorflow:loss = 7.39251, step = 5701 (0.077 sec)\n",
      "INFO:tensorflow:global_step/sec: 1352.8\n",
      "INFO:tensorflow:loss = 6.41204, step = 5801 (0.074 sec)\n",
      "INFO:tensorflow:global_step/sec: 1360.44\n",
      "INFO:tensorflow:loss = 7.41768, step = 5901 (0.073 sec)\n",
      "INFO:tensorflow:global_step/sec: 1368.44\n",
      "INFO:tensorflow:loss = 5.7322, step = 6001 (0.073 sec)\n",
      "INFO:tensorflow:global_step/sec: 1336.5\n",
      "INFO:tensorflow:loss = 6.59232, step = 6101 (0.075 sec)\n",
      "INFO:tensorflow:global_step/sec: 1289.03\n",
      "INFO:tensorflow:loss = 5.82296, step = 6201 (0.078 sec)\n",
      "INFO:tensorflow:global_step/sec: 1265.79\n",
      "INFO:tensorflow:loss = 6.5695, step = 6301 (0.079 sec)\n",
      "INFO:tensorflow:global_step/sec: 1364.6\n",
      "INFO:tensorflow:loss = 6.91281, step = 6401 (0.073 sec)\n",
      "INFO:tensorflow:global_step/sec: 1346.83\n",
      "INFO:tensorflow:loss = 6.48329, step = 6501 (0.074 sec)\n",
      "INFO:tensorflow:global_step/sec: 1155.98\n",
      "INFO:tensorflow:loss = 5.90228, step = 6601 (0.087 sec)\n",
      "INFO:tensorflow:global_step/sec: 1175.66\n",
      "INFO:tensorflow:loss = 5.45433, step = 6701 (0.085 sec)\n",
      "INFO:tensorflow:global_step/sec: 1249.76\n",
      "INFO:tensorflow:loss = 6.40213, step = 6801 (0.080 sec)\n",
      "INFO:tensorflow:global_step/sec: 1266.4\n",
      "INFO:tensorflow:loss = 7.2136, step = 6901 (0.079 sec)\n",
      "INFO:tensorflow:global_step/sec: 1366.98\n",
      "INFO:tensorflow:loss = 6.48911, step = 7001 (0.073 sec)\n",
      "INFO:tensorflow:global_step/sec: 1370.73\n",
      "INFO:tensorflow:loss = 6.09287, step = 7101 (0.073 sec)\n",
      "INFO:tensorflow:global_step/sec: 1323.05\n",
      "INFO:tensorflow:loss = 6.42979, step = 7201 (0.076 sec)\n",
      "INFO:tensorflow:global_step/sec: 1299.51\n",
      "INFO:tensorflow:loss = 6.49639, step = 7301 (0.077 sec)\n",
      "INFO:tensorflow:global_step/sec: 1325.61\n",
      "INFO:tensorflow:loss = 5.53316, step = 7401 (0.075 sec)\n",
      "INFO:tensorflow:global_step/sec: 1242.07\n",
      "INFO:tensorflow:loss = 5.30006, step = 7501 (0.081 sec)\n",
      "INFO:tensorflow:global_step/sec: 1146.05\n",
      "INFO:tensorflow:loss = 6.74218, step = 7601 (0.087 sec)\n",
      "INFO:tensorflow:global_step/sec: 1204.01\n",
      "INFO:tensorflow:loss = 6.71964, step = 7701 (0.083 sec)\n",
      "INFO:tensorflow:global_step/sec: 1315.81\n",
      "INFO:tensorflow:loss = 6.68535, step = 7801 (0.076 sec)\n",
      "INFO:tensorflow:global_step/sec: 1353.22\n",
      "INFO:tensorflow:loss = 6.76592, step = 7901 (0.074 sec)\n",
      "INFO:tensorflow:global_step/sec: 1344.45\n",
      "INFO:tensorflow:loss = 7.02457, step = 8001 (0.074 sec)\n",
      "INFO:tensorflow:global_step/sec: 1256.74\n",
      "INFO:tensorflow:loss = 6.20561, step = 8101 (0.080 sec)\n",
      "INFO:tensorflow:global_step/sec: 1175.82\n",
      "INFO:tensorflow:loss = 6.363, step = 8201 (0.085 sec)\n",
      "INFO:tensorflow:global_step/sec: 1268.91\n",
      "INFO:tensorflow:loss = 6.75668, step = 8301 (0.079 sec)\n"
     ]
    },
    {
     "name": "stdout",
     "output_type": "stream",
     "text": [
      "INFO:tensorflow:global_step/sec: 1349.44\n",
      "INFO:tensorflow:loss = 5.9977, step = 8401 (0.074 sec)\n",
      "INFO:tensorflow:global_step/sec: 1302.46\n",
      "INFO:tensorflow:loss = 5.46251, step = 8501 (0.077 sec)\n",
      "INFO:tensorflow:global_step/sec: 1367.44\n",
      "INFO:tensorflow:loss = 6.48423, step = 8601 (0.073 sec)\n",
      "INFO:tensorflow:global_step/sec: 1210.3\n",
      "INFO:tensorflow:loss = 6.06062, step = 8701 (0.083 sec)\n",
      "INFO:tensorflow:global_step/sec: 1072.2\n",
      "INFO:tensorflow:loss = 5.71857, step = 8801 (0.093 sec)\n",
      "INFO:tensorflow:global_step/sec: 1121.63\n",
      "INFO:tensorflow:loss = 6.20702, step = 8901 (0.089 sec)\n",
      "INFO:tensorflow:global_step/sec: 1142.44\n",
      "INFO:tensorflow:loss = 6.60527, step = 9001 (0.088 sec)\n",
      "INFO:tensorflow:global_step/sec: 1147.68\n",
      "INFO:tensorflow:loss = 6.00586, step = 9101 (0.087 sec)\n",
      "INFO:tensorflow:global_step/sec: 1126.09\n",
      "INFO:tensorflow:loss = 6.14091, step = 9201 (0.088 sec)\n",
      "INFO:tensorflow:global_step/sec: 1065.75\n",
      "INFO:tensorflow:loss = 7.53577, step = 9301 (0.094 sec)\n",
      "INFO:tensorflow:global_step/sec: 1149.97\n",
      "INFO:tensorflow:loss = 6.19009, step = 9401 (0.087 sec)\n",
      "INFO:tensorflow:global_step/sec: 1045.15\n",
      "INFO:tensorflow:loss = 5.9401, step = 9501 (0.095 sec)\n",
      "INFO:tensorflow:global_step/sec: 1049.36\n",
      "INFO:tensorflow:loss = 6.01944, step = 9601 (0.096 sec)\n",
      "INFO:tensorflow:global_step/sec: 1066.09\n",
      "INFO:tensorflow:loss = 6.62234, step = 9701 (0.094 sec)\n",
      "INFO:tensorflow:global_step/sec: 1115.01\n",
      "INFO:tensorflow:loss = 7.46865, step = 9801 (0.089 sec)\n",
      "INFO:tensorflow:global_step/sec: 1073.41\n",
      "INFO:tensorflow:loss = 6.46555, step = 9901 (0.094 sec)\n",
      "INFO:tensorflow:Saving checkpoints for 10000 into /var/folders/jb/jsd15ynn7c7b2c1s8zl3zr380000gn/T/tmpyf9hia7k/model.ckpt.\n",
      "INFO:tensorflow:Loss for final step: 7.04575.\n"
     ]
    },
    {
     "data": {
      "text/plain": [
       "<tensorflow.python.estimator.canned.dnn.DNNClassifier at 0x1136cf0f0>"
      ]
     },
     "execution_count": 9,
     "metadata": {},
     "output_type": "execute_result"
    }
   ],
   "source": [
    "model.train(input_fn=input_func, steps=n_steps_train)"
   ]
  },
  {
   "cell_type": "markdown",
   "metadata": {},
   "source": [
    "### Evaluate the Model"
   ]
  },
  {
   "cell_type": "code",
   "execution_count": 10,
   "metadata": {},
   "outputs": [
    {
     "name": "stdout",
     "output_type": "stream",
     "text": [
      "WARNING:tensorflow:Casting <dtype: 'float32'> labels to bool.\n",
      "WARNING:tensorflow:Casting <dtype: 'float32'> labels to bool.\n",
      "INFO:tensorflow:Starting evaluation at 2018-01-11-02:34:38\n",
      "INFO:tensorflow:Restoring parameters from /var/folders/jb/jsd15ynn7c7b2c1s8zl3zr380000gn/T/tmpyf9hia7k/model.ckpt-10000\n",
      "INFO:tensorflow:Finished evaluation at 2018-01-11-02:34:39\n",
      "INFO:tensorflow:Saving dict for global step 10000: accuracy = 0.69, accuracy_baseline = 0.53, auc = 0.721799, auc_precision_recall = 0.714024, average_loss = 0.63864, global_step = 10000, label/mean = 0.53, loss = 6.3864, prediction/mean = 0.496917\n"
     ]
    },
    {
     "data": {
      "image/png": "[encoded data removed]",
      "text/plain": [
       "<matplotlib.figure.Figure at 0x1136e1dd8>"
      ]
     },
     "metadata": {
      "image/png": {
       "height": 142,
       "width": 925
      }
     },
     "output_type": "display_data"
    }
   ],
   "source": [
    "# Evaluate the model\n",
    "results = model.evaluate(eval_input_func)\n",
    "\n",
    "# Display the accuracy\n",
    "display_accuracy('10', results['accuracy'])"
   ]
  },
  {
   "cell_type": "markdown",
   "metadata": {},
   "source": [
    "![](images/title-ann-10x10.png)\n",
    "<img src=\"images/nn-10x10.png\" alt=\"Drawing\" style=\"float: center; width: 75%;\"/>"
   ]
  },
  {
   "cell_type": "code",
   "execution_count": 11,
   "metadata": {
    "collapsed": true
   },
   "outputs": [],
   "source": [
    "# =======================\n",
    "#  HYPERPARAMETERS\n",
    "# =======================\n",
    "\n",
    "hidden_units = [10, 10]"
   ]
  },
  {
   "cell_type": "markdown",
   "metadata": {},
   "source": [
    "### Build the Model with 2 hidden layers with 10 neurons each"
   ]
  },
  {
   "cell_type": "code",
   "execution_count": 12,
   "metadata": {},
   "outputs": [
    {
     "name": "stdout",
     "output_type": "stream",
     "text": [
      "INFO:tensorflow:Using default config.\n",
      "WARNING:tensorflow:Using temporary folder as model directory: /var/folders/jb/jsd15ynn7c7b2c1s8zl3zr380000gn/T/tmpb1momtru\n",
      "INFO:tensorflow:Using config: {'_model_dir': '/var/folders/jb/jsd15ynn7c7b2c1s8zl3zr380000gn/T/tmpb1momtru', '_tf_random_seed': None, '_save_summary_steps': 100, '_save_checkpoints_steps': None, '_save_checkpoints_secs': 600, '_session_config': None, '_keep_checkpoint_max': 5, '_keep_checkpoint_every_n_hours': 10000, '_log_step_count_steps': 100, '_service': None, '_cluster_spec': <tensorflow.python.training.server_lib.ClusterSpec object at 0x1136e11d0>, '_task_type': 'worker', '_task_id': 0, '_master': '', '_is_chief': True, '_num_ps_replicas': 0, '_num_worker_replicas': 1}\n"
     ]
    }
   ],
   "source": [
    "model = tf.estimator.DNNClassifier(hidden_units=hidden_units,\n",
    "                                   feature_columns=feat_cols,\n",
    "                                   n_classes=2,\n",
    "                                   activation_fn=tf.nn.relu)"
   ]
  },
  {
   "cell_type": "markdown",
   "metadata": {},
   "source": [
    "### Train the Model"
   ]
  },
  {
   "cell_type": "code",
   "execution_count": 13,
   "metadata": {},
   "outputs": [
    {
     "name": "stdout",
     "output_type": "stream",
     "text": [
      "INFO:tensorflow:Create CheckpointSaverHook.\n",
      "INFO:tensorflow:Saving checkpoints for 1 into /var/folders/jb/jsd15ynn7c7b2c1s8zl3zr380000gn/T/tmpb1momtru/model.ckpt.\n",
      "INFO:tensorflow:loss = 6.36391, step = 1\n",
      "INFO:tensorflow:global_step/sec: 836.919\n",
      "INFO:tensorflow:loss = 6.75547, step = 101 (0.120 sec)\n",
      "INFO:tensorflow:global_step/sec: 1241.41\n",
      "INFO:tensorflow:loss = 6.83422, step = 201 (0.081 sec)\n",
      "INFO:tensorflow:global_step/sec: 857.605\n",
      "INFO:tensorflow:loss = 6.7374, step = 301 (0.122 sec)\n",
      "INFO:tensorflow:global_step/sec: 787.886\n",
      "INFO:tensorflow:loss = 6.97049, step = 401 (0.122 sec)\n",
      "INFO:tensorflow:global_step/sec: 1056.87\n",
      "INFO:tensorflow:loss = 6.80434, step = 501 (0.095 sec)\n",
      "INFO:tensorflow:global_step/sec: 934.685\n",
      "INFO:tensorflow:loss = 6.49926, step = 601 (0.107 sec)\n",
      "INFO:tensorflow:global_step/sec: 1187.44\n",
      "INFO:tensorflow:loss = 7.10082, step = 701 (0.084 sec)\n",
      "INFO:tensorflow:global_step/sec: 1190.35\n",
      "INFO:tensorflow:loss = 6.78761, step = 801 (0.084 sec)\n",
      "INFO:tensorflow:global_step/sec: 1231.03\n",
      "INFO:tensorflow:loss = 6.48125, step = 901 (0.081 sec)\n",
      "INFO:tensorflow:global_step/sec: 1155.4\n",
      "INFO:tensorflow:loss = 5.56168, step = 1001 (0.087 sec)\n",
      "INFO:tensorflow:global_step/sec: 1240.74\n",
      "INFO:tensorflow:loss = 6.96604, step = 1101 (0.081 sec)\n",
      "INFO:tensorflow:global_step/sec: 1112.54\n",
      "INFO:tensorflow:loss = 6.12466, step = 1201 (0.090 sec)\n",
      "INFO:tensorflow:global_step/sec: 1058.67\n",
      "INFO:tensorflow:loss = 7.84154, step = 1301 (0.094 sec)\n",
      "INFO:tensorflow:global_step/sec: 1179.95\n",
      "INFO:tensorflow:loss = 6.31328, step = 1401 (0.085 sec)\n",
      "INFO:tensorflow:global_step/sec: 1237.65\n",
      "INFO:tensorflow:loss = 6.20269, step = 1501 (0.081 sec)\n",
      "INFO:tensorflow:global_step/sec: 1218.7\n",
      "INFO:tensorflow:loss = 7.74027, step = 1601 (0.082 sec)\n",
      "INFO:tensorflow:global_step/sec: 1117.12\n",
      "INFO:tensorflow:loss = 6.57086, step = 1701 (0.090 sec)\n",
      "INFO:tensorflow:global_step/sec: 1140.99\n",
      "INFO:tensorflow:loss = 5.47218, step = 1801 (0.087 sec)\n",
      "INFO:tensorflow:global_step/sec: 1289.92\n",
      "INFO:tensorflow:loss = 7.54842, step = 1901 (0.077 sec)\n",
      "INFO:tensorflow:global_step/sec: 1293.02\n",
      "INFO:tensorflow:loss = 5.67125, step = 2001 (0.077 sec)\n",
      "INFO:tensorflow:global_step/sec: 1261.03\n",
      "INFO:tensorflow:loss = 6.15047, step = 2101 (0.079 sec)\n",
      "INFO:tensorflow:global_step/sec: 1212.58\n",
      "INFO:tensorflow:loss = 7.59125, step = 2201 (0.082 sec)\n",
      "INFO:tensorflow:global_step/sec: 1198.67\n",
      "INFO:tensorflow:loss = 5.32734, step = 2301 (0.083 sec)\n",
      "INFO:tensorflow:global_step/sec: 1114.24\n",
      "INFO:tensorflow:loss = 5.62428, step = 2401 (0.090 sec)\n",
      "INFO:tensorflow:global_step/sec: 1062.33\n",
      "INFO:tensorflow:loss = 6.22827, step = 2501 (0.094 sec)\n",
      "INFO:tensorflow:global_step/sec: 1154.55\n",
      "INFO:tensorflow:loss = 6.11949, step = 2601 (0.086 sec)\n",
      "INFO:tensorflow:global_step/sec: 1154.45\n",
      "INFO:tensorflow:loss = 5.30759, step = 2701 (0.087 sec)\n",
      "INFO:tensorflow:global_step/sec: 1145.3\n",
      "INFO:tensorflow:loss = 4.91653, step = 2801 (0.088 sec)\n",
      "INFO:tensorflow:global_step/sec: 950.075\n",
      "INFO:tensorflow:loss = 10.1157, step = 2901 (0.105 sec)\n",
      "INFO:tensorflow:global_step/sec: 972.658\n",
      "INFO:tensorflow:loss = 4.94153, step = 3001 (0.103 sec)\n",
      "INFO:tensorflow:global_step/sec: 982.309\n",
      "INFO:tensorflow:loss = 4.78254, step = 3101 (0.102 sec)\n",
      "INFO:tensorflow:global_step/sec: 1027.39\n",
      "INFO:tensorflow:loss = 5.45573, step = 3201 (0.097 sec)\n",
      "INFO:tensorflow:global_step/sec: 1134.7\n",
      "INFO:tensorflow:loss = 4.54906, step = 3301 (0.088 sec)\n",
      "INFO:tensorflow:global_step/sec: 1123.63\n",
      "INFO:tensorflow:loss = 5.72267, step = 3401 (0.089 sec)\n",
      "INFO:tensorflow:global_step/sec: 1061.13\n",
      "INFO:tensorflow:loss = 6.38269, step = 3501 (0.094 sec)\n",
      "INFO:tensorflow:global_step/sec: 1053.03\n",
      "INFO:tensorflow:loss = 3.74488, step = 3601 (0.094 sec)\n",
      "INFO:tensorflow:global_step/sec: 1249.19\n",
      "INFO:tensorflow:loss = 5.62976, step = 3701 (0.080 sec)\n",
      "INFO:tensorflow:global_step/sec: 1104.24\n",
      "INFO:tensorflow:loss = 4.58155, step = 3801 (0.090 sec)\n",
      "INFO:tensorflow:global_step/sec: 952.768\n",
      "INFO:tensorflow:loss = 3.75941, step = 3901 (0.105 sec)\n",
      "INFO:tensorflow:global_step/sec: 873.928\n",
      "INFO:tensorflow:loss = 2.8913, step = 4001 (0.114 sec)\n",
      "INFO:tensorflow:global_step/sec: 1054.28\n",
      "INFO:tensorflow:loss = 5.00093, step = 4101 (0.095 sec)\n",
      "INFO:tensorflow:global_step/sec: 1040.65\n",
      "INFO:tensorflow:loss = 2.997, step = 4201 (0.096 sec)\n",
      "INFO:tensorflow:global_step/sec: 975.143\n",
      "INFO:tensorflow:loss = 5.32258, step = 4301 (0.103 sec)\n",
      "INFO:tensorflow:global_step/sec: 949.056\n",
      "INFO:tensorflow:loss = 5.30734, step = 4401 (0.105 sec)\n",
      "INFO:tensorflow:global_step/sec: 829.627\n",
      "INFO:tensorflow:loss = 3.89607, step = 4501 (0.121 sec)\n",
      "INFO:tensorflow:global_step/sec: 918.569\n",
      "INFO:tensorflow:loss = 5.92912, step = 4601 (0.109 sec)\n",
      "INFO:tensorflow:global_step/sec: 1205.26\n",
      "INFO:tensorflow:loss = 2.59512, step = 4701 (0.083 sec)\n",
      "INFO:tensorflow:global_step/sec: 1267.91\n",
      "INFO:tensorflow:loss = 5.01611, step = 4801 (0.078 sec)\n",
      "INFO:tensorflow:global_step/sec: 1341.36\n",
      "INFO:tensorflow:loss = 5.11415, step = 4901 (0.075 sec)\n",
      "INFO:tensorflow:global_step/sec: 1342.27\n",
      "INFO:tensorflow:loss = 4.05175, step = 5001 (0.075 sec)\n",
      "INFO:tensorflow:global_step/sec: 1320.74\n",
      "INFO:tensorflow:loss = 4.17648, step = 5101 (0.075 sec)\n",
      "INFO:tensorflow:global_step/sec: 1324.01\n",
      "INFO:tensorflow:loss = 3.44858, step = 5201 (0.075 sec)\n",
      "INFO:tensorflow:global_step/sec: 1357.79\n",
      "INFO:tensorflow:loss = 4.50459, step = 5301 (0.074 sec)\n",
      "INFO:tensorflow:global_step/sec: 1385.72\n",
      "INFO:tensorflow:loss = 4.25908, step = 5401 (0.072 sec)\n",
      "INFO:tensorflow:global_step/sec: 1380.2\n",
      "INFO:tensorflow:loss = 4.50368, step = 5501 (0.072 sec)\n",
      "INFO:tensorflow:global_step/sec: 1349.51\n",
      "INFO:tensorflow:loss = 2.88287, step = 5601 (0.074 sec)\n",
      "INFO:tensorflow:global_step/sec: 1197.48\n",
      "INFO:tensorflow:loss = 3.56973, step = 5701 (0.084 sec)\n",
      "INFO:tensorflow:global_step/sec: 1224.1\n",
      "INFO:tensorflow:loss = 1.72951, step = 5801 (0.081 sec)\n",
      "INFO:tensorflow:global_step/sec: 1235.01\n",
      "INFO:tensorflow:loss = 3.52661, step = 5901 (0.081 sec)\n",
      "INFO:tensorflow:global_step/sec: 1247.83\n",
      "INFO:tensorflow:loss = 4.86473, step = 6001 (0.080 sec)\n",
      "INFO:tensorflow:global_step/sec: 1306.21\n",
      "INFO:tensorflow:loss = 4.22657, step = 6101 (0.076 sec)\n",
      "INFO:tensorflow:global_step/sec: 1318.9\n",
      "INFO:tensorflow:loss = 5.15695, step = 6201 (0.076 sec)\n",
      "INFO:tensorflow:global_step/sec: 1227.86\n",
      "INFO:tensorflow:loss = 3.11277, step = 6301 (0.081 sec)\n",
      "INFO:tensorflow:global_step/sec: 1237.61\n",
      "INFO:tensorflow:loss = 4.14401, step = 6401 (0.081 sec)\n",
      "INFO:tensorflow:global_step/sec: 1287.03\n",
      "INFO:tensorflow:loss = 3.42303, step = 6501 (0.078 sec)\n",
      "INFO:tensorflow:global_step/sec: 1227.79\n",
      "INFO:tensorflow:loss = 3.14396, step = 6601 (0.081 sec)\n",
      "INFO:tensorflow:global_step/sec: 1257.5\n",
      "INFO:tensorflow:loss = 4.66134, step = 6701 (0.079 sec)\n",
      "INFO:tensorflow:global_step/sec: 1192.1\n",
      "INFO:tensorflow:loss = 2.0799, step = 6801 (0.084 sec)\n",
      "INFO:tensorflow:global_step/sec: 1233.21\n",
      "INFO:tensorflow:loss = 4.23602, step = 6901 (0.081 sec)\n",
      "INFO:tensorflow:global_step/sec: 1207.88\n",
      "INFO:tensorflow:loss = 4.21389, step = 7001 (0.083 sec)\n",
      "INFO:tensorflow:global_step/sec: 1244.66\n",
      "INFO:tensorflow:loss = 3.79781, step = 7101 (0.080 sec)\n",
      "INFO:tensorflow:global_step/sec: 1276.96\n",
      "INFO:tensorflow:loss = 4.15359, step = 7201 (0.078 sec)\n",
      "INFO:tensorflow:global_step/sec: 1259.95\n",
      "INFO:tensorflow:loss = 1.4092, step = 7301 (0.079 sec)\n",
      "INFO:tensorflow:global_step/sec: 1185.61\n",
      "INFO:tensorflow:loss = 1.30507, step = 7401 (0.085 sec)\n",
      "INFO:tensorflow:global_step/sec: 1060.58\n",
      "INFO:tensorflow:loss = 2.3843, step = 7501 (0.094 sec)\n",
      "INFO:tensorflow:global_step/sec: 1140.12\n",
      "INFO:tensorflow:loss = 2.47787, step = 7601 (0.087 sec)\n",
      "INFO:tensorflow:global_step/sec: 1290.27\n",
      "INFO:tensorflow:loss = 1.98881, step = 7701 (0.078 sec)\n",
      "INFO:tensorflow:global_step/sec: 1231.69\n",
      "INFO:tensorflow:loss = 2.05161, step = 7801 (0.081 sec)\n",
      "INFO:tensorflow:global_step/sec: 1273.25\n",
      "INFO:tensorflow:loss = 3.42673, step = 7901 (0.079 sec)\n",
      "INFO:tensorflow:global_step/sec: 1300.56\n",
      "INFO:tensorflow:loss = 1.99824, step = 8001 (0.077 sec)\n",
      "INFO:tensorflow:global_step/sec: 1200.89\n",
      "INFO:tensorflow:loss = 2.93407, step = 8101 (0.084 sec)\n",
      "INFO:tensorflow:global_step/sec: 1026.16\n",
      "INFO:tensorflow:loss = 4.9792, step = 8201 (0.097 sec)\n",
      "INFO:tensorflow:global_step/sec: 1186.85\n",
      "INFO:tensorflow:loss = 4.4834, step = 8301 (0.084 sec)\n"
     ]
    },
    {
     "name": "stdout",
     "output_type": "stream",
     "text": [
      "INFO:tensorflow:global_step/sec: 1241.48\n",
      "INFO:tensorflow:loss = 2.70124, step = 8401 (0.080 sec)\n",
      "INFO:tensorflow:global_step/sec: 1220.24\n",
      "INFO:tensorflow:loss = 1.94598, step = 8501 (0.082 sec)\n",
      "INFO:tensorflow:global_step/sec: 1298.37\n",
      "INFO:tensorflow:loss = 2.97722, step = 8601 (0.077 sec)\n",
      "INFO:tensorflow:global_step/sec: 1364.96\n",
      "INFO:tensorflow:loss = 3.17661, step = 8701 (0.073 sec)\n",
      "INFO:tensorflow:global_step/sec: 1217.49\n",
      "INFO:tensorflow:loss = 2.88243, step = 8801 (0.082 sec)\n",
      "INFO:tensorflow:global_step/sec: 1253.12\n",
      "INFO:tensorflow:loss = 2.73503, step = 8901 (0.080 sec)\n",
      "INFO:tensorflow:global_step/sec: 1248.82\n",
      "INFO:tensorflow:loss = 3.96227, step = 9001 (0.080 sec)\n",
      "INFO:tensorflow:global_step/sec: 1223.91\n",
      "INFO:tensorflow:loss = 2.84482, step = 9101 (0.081 sec)\n",
      "INFO:tensorflow:global_step/sec: 1222.63\n",
      "INFO:tensorflow:loss = 2.49942, step = 9201 (0.082 sec)\n",
      "INFO:tensorflow:global_step/sec: 1306.11\n",
      "INFO:tensorflow:loss = 1.77186, step = 9301 (0.076 sec)\n",
      "INFO:tensorflow:global_step/sec: 997.347\n",
      "INFO:tensorflow:loss = 1.81807, step = 9401 (0.100 sec)\n",
      "INFO:tensorflow:global_step/sec: 1090.33\n",
      "INFO:tensorflow:loss = 1.1175, step = 9501 (0.092 sec)\n",
      "INFO:tensorflow:global_step/sec: 1073.38\n",
      "INFO:tensorflow:loss = 3.60798, step = 9601 (0.093 sec)\n",
      "INFO:tensorflow:global_step/sec: 979.108\n",
      "INFO:tensorflow:loss = 1.5912, step = 9701 (0.102 sec)\n",
      "INFO:tensorflow:global_step/sec: 1143.31\n",
      "INFO:tensorflow:loss = 3.18981, step = 9801 (0.087 sec)\n",
      "INFO:tensorflow:global_step/sec: 1012.54\n",
      "INFO:tensorflow:loss = 2.6535, step = 9901 (0.099 sec)\n",
      "INFO:tensorflow:Saving checkpoints for 10000 into /var/folders/jb/jsd15ynn7c7b2c1s8zl3zr380000gn/T/tmpb1momtru/model.ckpt.\n",
      "INFO:tensorflow:Loss for final step: 2.73996.\n"
     ]
    },
    {
     "data": {
      "text/plain": [
       "<tensorflow.python.estimator.canned.dnn.DNNClassifier at 0x114db23c8>"
      ]
     },
     "execution_count": 13,
     "metadata": {},
     "output_type": "execute_result"
    }
   ],
   "source": [
    "model.train(input_fn=input_func, steps=n_steps_train)"
   ]
  },
  {
   "cell_type": "markdown",
   "metadata": {},
   "source": [
    "### Evaluate the Model"
   ]
  },
  {
   "cell_type": "code",
   "execution_count": 14,
   "metadata": {},
   "outputs": [
    {
     "name": "stdout",
     "output_type": "stream",
     "text": [
      "WARNING:tensorflow:Casting <dtype: 'float32'> labels to bool.\n",
      "WARNING:tensorflow:Casting <dtype: 'float32'> labels to bool.\n",
      "INFO:tensorflow:Starting evaluation at 2018-01-11-02:35:04\n",
      "INFO:tensorflow:Restoring parameters from /var/folders/jb/jsd15ynn7c7b2c1s8zl3zr380000gn/T/tmpb1momtru/model.ckpt-10000\n",
      "INFO:tensorflow:Finished evaluation at 2018-01-11-02:35:05\n",
      "INFO:tensorflow:Saving dict for global step 10000: accuracy = 0.92, accuracy_baseline = 0.53, auc = 0.961863, auc_precision_recall = 0.972636, average_loss = 0.257792, global_step = 10000, label/mean = 0.53, loss = 2.57792, prediction/mean = 0.524394\n"
     ]
    },
    {
     "data": {
      "image/png": "[encoded data removed]",
      "text/plain": [
       "<matplotlib.figure.Figure at 0x1136be748>"
      ]
     },
     "metadata": {
      "image/png": {
       "height": 142,
       "width": 925
      }
     },
     "output_type": "display_data"
    }
   ],
   "source": [
    "# Evaluate the model\n",
    "results = model.evaluate(eval_input_func)\n",
    "\n",
    "# Display the accuracy\n",
    "display_accuracy('10x10', results['accuracy'])"
   ]
  },
  {
   "cell_type": "markdown",
   "metadata": {},
   "source": [
    "![](images/title-ann-10x10x10.png)\n",
    "<img src=\"images/nn-10x10x10.png\" alt=\"Drawing\" style=\"float: center; width: 75%;\"/>"
   ]
  },
  {
   "cell_type": "code",
   "execution_count": 15,
   "metadata": {
    "collapsed": true
   },
   "outputs": [],
   "source": [
    "# =======================\n",
    "#  HYPERPARAMETERS\n",
    "# =======================\n",
    "\n",
    "hidden_units = [10, 10, 10]"
   ]
  },
  {
   "cell_type": "markdown",
   "metadata": {},
   "source": [
    "### Build the Model with 3 hidden layers with 10 neurons each"
   ]
  },
  {
   "cell_type": "code",
   "execution_count": 16,
   "metadata": {},
   "outputs": [
    {
     "name": "stdout",
     "output_type": "stream",
     "text": [
      "INFO:tensorflow:Using default config.\n",
      "WARNING:tensorflow:Using temporary folder as model directory: /var/folders/jb/jsd15ynn7c7b2c1s8zl3zr380000gn/T/tmpmulflw4b\n",
      "INFO:tensorflow:Using config: {'_model_dir': '/var/folders/jb/jsd15ynn7c7b2c1s8zl3zr380000gn/T/tmpmulflw4b', '_tf_random_seed': None, '_save_summary_steps': 100, '_save_checkpoints_steps': None, '_save_checkpoints_secs': 600, '_session_config': None, '_keep_checkpoint_max': 5, '_keep_checkpoint_every_n_hours': 10000, '_log_step_count_steps': 100, '_service': None, '_cluster_spec': <tensorflow.python.training.server_lib.ClusterSpec object at 0x1026cb898>, '_task_type': 'worker', '_task_id': 0, '_master': '', '_is_chief': True, '_num_ps_replicas': 0, '_num_worker_replicas': 1}\n"
     ]
    }
   ],
   "source": [
    "model = tf.estimator.DNNClassifier(hidden_units=hidden_units,\n",
    "                                   feature_columns=feat_cols,\n",
    "                                   n_classes=2,\n",
    "                                   activation_fn=tf.nn.relu)"
   ]
  },
  {
   "cell_type": "markdown",
   "metadata": {},
   "source": [
    "### Train the Model"
   ]
  },
  {
   "cell_type": "code",
   "execution_count": 17,
   "metadata": {},
   "outputs": [
    {
     "name": "stdout",
     "output_type": "stream",
     "text": [
      "INFO:tensorflow:Create CheckpointSaverHook.\n",
      "INFO:tensorflow:Saving checkpoints for 1 into /var/folders/jb/jsd15ynn7c7b2c1s8zl3zr380000gn/T/tmpmulflw4b/model.ckpt.\n",
      "INFO:tensorflow:loss = 7.18606, step = 1\n",
      "INFO:tensorflow:global_step/sec: 810.326\n",
      "INFO:tensorflow:loss = 6.83136, step = 101 (0.124 sec)\n",
      "INFO:tensorflow:global_step/sec: 1275.06\n",
      "INFO:tensorflow:loss = 6.87653, step = 201 (0.078 sec)\n",
      "INFO:tensorflow:global_step/sec: 1176.84\n",
      "INFO:tensorflow:loss = 6.91967, step = 301 (0.085 sec)\n",
      "INFO:tensorflow:global_step/sec: 1244.48\n",
      "INFO:tensorflow:loss = 6.98306, step = 401 (0.080 sec)\n",
      "INFO:tensorflow:global_step/sec: 1208.52\n",
      "INFO:tensorflow:loss = 6.90923, step = 501 (0.083 sec)\n",
      "INFO:tensorflow:global_step/sec: 1147.3\n",
      "INFO:tensorflow:loss = 6.94218, step = 601 (0.087 sec)\n",
      "INFO:tensorflow:global_step/sec: 1182.02\n",
      "INFO:tensorflow:loss = 6.93075, step = 701 (0.085 sec)\n",
      "INFO:tensorflow:global_step/sec: 1214.93\n",
      "INFO:tensorflow:loss = 6.99251, step = 801 (0.082 sec)\n",
      "INFO:tensorflow:global_step/sec: 1169.17\n",
      "INFO:tensorflow:loss = 7.00886, step = 901 (0.086 sec)\n",
      "INFO:tensorflow:global_step/sec: 1263.97\n",
      "INFO:tensorflow:loss = 6.99398, step = 1001 (0.079 sec)\n",
      "INFO:tensorflow:global_step/sec: 1267.7\n",
      "INFO:tensorflow:loss = 7.00209, step = 1101 (0.079 sec)\n",
      "INFO:tensorflow:global_step/sec: 1210.71\n",
      "INFO:tensorflow:loss = 7.05467, step = 1201 (0.082 sec)\n",
      "INFO:tensorflow:global_step/sec: 1216.28\n",
      "INFO:tensorflow:loss = 6.95892, step = 1301 (0.082 sec)\n",
      "INFO:tensorflow:global_step/sec: 1252.16\n",
      "INFO:tensorflow:loss = 6.9651, step = 1401 (0.080 sec)\n",
      "INFO:tensorflow:global_step/sec: 1106.38\n",
      "INFO:tensorflow:loss = 6.97806, step = 1501 (0.090 sec)\n",
      "INFO:tensorflow:global_step/sec: 1230.1\n",
      "INFO:tensorflow:loss = 6.93842, step = 1601 (0.081 sec)\n",
      "INFO:tensorflow:global_step/sec: 1275.59\n",
      "INFO:tensorflow:loss = 6.98745, step = 1701 (0.078 sec)\n",
      "INFO:tensorflow:global_step/sec: 1172.65\n",
      "INFO:tensorflow:loss = 6.89685, step = 1801 (0.085 sec)\n",
      "INFO:tensorflow:global_step/sec: 1293.16\n",
      "INFO:tensorflow:loss = 6.88712, step = 1901 (0.078 sec)\n",
      "INFO:tensorflow:global_step/sec: 1224.51\n",
      "INFO:tensorflow:loss = 7.01588, step = 2001 (0.081 sec)\n",
      "INFO:tensorflow:global_step/sec: 1226.48\n",
      "INFO:tensorflow:loss = 6.86411, step = 2101 (0.081 sec)\n",
      "INFO:tensorflow:global_step/sec: 1241.47\n",
      "INFO:tensorflow:loss = 6.96927, step = 2201 (0.081 sec)\n",
      "INFO:tensorflow:global_step/sec: 1243.3\n",
      "INFO:tensorflow:loss = 6.88783, step = 2301 (0.080 sec)\n",
      "INFO:tensorflow:global_step/sec: 1194.65\n",
      "INFO:tensorflow:loss = 6.6678, step = 2401 (0.084 sec)\n",
      "INFO:tensorflow:global_step/sec: 1262.1\n",
      "INFO:tensorflow:loss = 6.9261, step = 2501 (0.079 sec)\n",
      "INFO:tensorflow:global_step/sec: 1228.29\n",
      "INFO:tensorflow:loss = 7.01263, step = 2601 (0.081 sec)\n",
      "INFO:tensorflow:global_step/sec: 1115.09\n",
      "INFO:tensorflow:loss = 6.77189, step = 2701 (0.090 sec)\n",
      "INFO:tensorflow:global_step/sec: 1241.17\n",
      "INFO:tensorflow:loss = 6.78492, step = 2801 (0.081 sec)\n",
      "INFO:tensorflow:global_step/sec: 1293.37\n",
      "INFO:tensorflow:loss = 6.72966, step = 2901 (0.077 sec)\n",
      "INFO:tensorflow:global_step/sec: 1206.86\n",
      "INFO:tensorflow:loss = 7.20854, step = 3001 (0.083 sec)\n",
      "INFO:tensorflow:global_step/sec: 1247.75\n",
      "INFO:tensorflow:loss = 6.69669, step = 3101 (0.080 sec)\n",
      "INFO:tensorflow:global_step/sec: 1111.3\n",
      "INFO:tensorflow:loss = 6.90808, step = 3201 (0.090 sec)\n",
      "INFO:tensorflow:global_step/sec: 1079.91\n",
      "INFO:tensorflow:loss = 6.42981, step = 3301 (0.093 sec)\n",
      "INFO:tensorflow:global_step/sec: 1242.44\n",
      "INFO:tensorflow:loss = 6.3942, step = 3401 (0.080 sec)\n",
      "INFO:tensorflow:global_step/sec: 1253.49\n",
      "INFO:tensorflow:loss = 6.24927, step = 3501 (0.080 sec)\n",
      "INFO:tensorflow:global_step/sec: 1116.43\n",
      "INFO:tensorflow:loss = 5.22949, step = 3601 (0.091 sec)\n",
      "INFO:tensorflow:global_step/sec: 958.461\n",
      "INFO:tensorflow:loss = 4.90328, step = 3701 (0.104 sec)\n",
      "INFO:tensorflow:global_step/sec: 977.88\n",
      "INFO:tensorflow:loss = 3.50839, step = 3801 (0.102 sec)\n",
      "INFO:tensorflow:global_step/sec: 1008.7\n",
      "INFO:tensorflow:loss = 5.34475, step = 3901 (0.099 sec)\n",
      "INFO:tensorflow:global_step/sec: 1007.83\n",
      "INFO:tensorflow:loss = 3.35591, step = 4001 (0.099 sec)\n",
      "INFO:tensorflow:global_step/sec: 979.019\n",
      "INFO:tensorflow:loss = 4.08483, step = 4101 (0.102 sec)\n",
      "INFO:tensorflow:global_step/sec: 1016.94\n",
      "INFO:tensorflow:loss = 5.32817, step = 4201 (0.098 sec)\n",
      "INFO:tensorflow:global_step/sec: 998.97\n",
      "INFO:tensorflow:loss = 5.07376, step = 4301 (0.099 sec)\n",
      "INFO:tensorflow:global_step/sec: 1025.09\n",
      "INFO:tensorflow:loss = 4.56821, step = 4401 (0.098 sec)\n",
      "INFO:tensorflow:global_step/sec: 1018.77\n",
      "INFO:tensorflow:loss = 2.77591, step = 4501 (0.098 sec)\n",
      "INFO:tensorflow:global_step/sec: 1008.17\n",
      "INFO:tensorflow:loss = 3.75504, step = 4601 (0.099 sec)\n",
      "INFO:tensorflow:global_step/sec: 1165.88\n",
      "INFO:tensorflow:loss = 1.64198, step = 4701 (0.085 sec)\n",
      "INFO:tensorflow:global_step/sec: 1289.81\n",
      "INFO:tensorflow:loss = 3.67304, step = 4801 (0.078 sec)\n",
      "INFO:tensorflow:global_step/sec: 1193.06\n",
      "INFO:tensorflow:loss = 7.4138, step = 4901 (0.084 sec)\n",
      "INFO:tensorflow:global_step/sec: 1244.56\n",
      "INFO:tensorflow:loss = 5.15534, step = 5001 (0.080 sec)\n",
      "INFO:tensorflow:global_step/sec: 1305.8\n",
      "INFO:tensorflow:loss = 5.40871, step = 5101 (0.077 sec)\n",
      "INFO:tensorflow:global_step/sec: 1086.66\n",
      "INFO:tensorflow:loss = 3.9412, step = 5201 (0.092 sec)\n",
      "INFO:tensorflow:global_step/sec: 1159.77\n",
      "INFO:tensorflow:loss = 5.26183, step = 5301 (0.086 sec)\n",
      "INFO:tensorflow:global_step/sec: 1128.27\n",
      "INFO:tensorflow:loss = 1.149, step = 5401 (0.089 sec)\n",
      "INFO:tensorflow:global_step/sec: 1164.09\n",
      "INFO:tensorflow:loss = 4.72882, step = 5501 (0.085 sec)\n",
      "INFO:tensorflow:global_step/sec: 1241.56\n",
      "INFO:tensorflow:loss = 3.9119, step = 5601 (0.080 sec)\n",
      "INFO:tensorflow:global_step/sec: 1279.18\n",
      "INFO:tensorflow:loss = 3.20993, step = 5701 (0.078 sec)\n",
      "INFO:tensorflow:global_step/sec: 1204.12\n",
      "INFO:tensorflow:loss = 1.65838, step = 5801 (0.083 sec)\n",
      "INFO:tensorflow:global_step/sec: 1245.27\n",
      "INFO:tensorflow:loss = 1.90107, step = 5901 (0.080 sec)\n",
      "INFO:tensorflow:global_step/sec: 1096.42\n",
      "INFO:tensorflow:loss = 3.6002, step = 6001 (0.092 sec)\n",
      "INFO:tensorflow:global_step/sec: 919.38\n",
      "INFO:tensorflow:loss = 2.61276, step = 6101 (0.109 sec)\n",
      "INFO:tensorflow:global_step/sec: 928.35\n",
      "INFO:tensorflow:loss = 2.61955, step = 6201 (0.108 sec)\n",
      "INFO:tensorflow:global_step/sec: 968.887\n",
      "INFO:tensorflow:loss = 7.85686, step = 6301 (0.102 sec)\n",
      "INFO:tensorflow:global_step/sec: 996.236\n",
      "INFO:tensorflow:loss = 0.836738, step = 6401 (0.101 sec)\n",
      "INFO:tensorflow:global_step/sec: 1085.92\n",
      "INFO:tensorflow:loss = 1.78319, step = 6501 (0.091 sec)\n",
      "INFO:tensorflow:global_step/sec: 1126.57\n",
      "INFO:tensorflow:loss = 1.97114, step = 6601 (0.089 sec)\n",
      "INFO:tensorflow:global_step/sec: 1175.8\n",
      "INFO:tensorflow:loss = 3.53974, step = 6701 (0.085 sec)\n",
      "INFO:tensorflow:global_step/sec: 1226.59\n",
      "INFO:tensorflow:loss = 2.40291, step = 6801 (0.082 sec)\n",
      "INFO:tensorflow:global_step/sec: 1097.54\n",
      "INFO:tensorflow:loss = 1.70238, step = 6901 (0.091 sec)\n",
      "INFO:tensorflow:global_step/sec: 1074.13\n",
      "INFO:tensorflow:loss = 1.61104, step = 7001 (0.093 sec)\n",
      "INFO:tensorflow:global_step/sec: 1089.01\n",
      "INFO:tensorflow:loss = 3.20348, step = 7101 (0.092 sec)\n",
      "INFO:tensorflow:global_step/sec: 1046.38\n",
      "INFO:tensorflow:loss = 2.51346, step = 7201 (0.095 sec)\n",
      "INFO:tensorflow:global_step/sec: 1166.15\n",
      "INFO:tensorflow:loss = 3.8132, step = 7301 (0.086 sec)\n",
      "INFO:tensorflow:global_step/sec: 1034.14\n",
      "INFO:tensorflow:loss = 3.55783, step = 7401 (0.098 sec)\n",
      "INFO:tensorflow:global_step/sec: 996.878\n",
      "INFO:tensorflow:loss = 0.324265, step = 7501 (0.100 sec)\n",
      "INFO:tensorflow:global_step/sec: 916.381\n",
      "INFO:tensorflow:loss = 1.46616, step = 7601 (0.109 sec)\n",
      "INFO:tensorflow:global_step/sec: 976.544\n",
      "INFO:tensorflow:loss = 1.53358, step = 7701 (0.102 sec)\n",
      "INFO:tensorflow:global_step/sec: 1191.5\n",
      "INFO:tensorflow:loss = 2.58553, step = 7801 (0.084 sec)\n",
      "INFO:tensorflow:global_step/sec: 1192.76\n",
      "INFO:tensorflow:loss = 2.6238, step = 7901 (0.085 sec)\n",
      "INFO:tensorflow:global_step/sec: 961.112\n",
      "INFO:tensorflow:loss = 3.4069, step = 8001 (0.104 sec)\n",
      "INFO:tensorflow:global_step/sec: 993.791\n",
      "INFO:tensorflow:loss = 1.33381, step = 8101 (0.101 sec)\n",
      "INFO:tensorflow:global_step/sec: 873.408\n",
      "INFO:tensorflow:loss = 1.93278, step = 8201 (0.114 sec)\n",
      "INFO:tensorflow:global_step/sec: 947.272\n",
      "INFO:tensorflow:loss = 1.7736, step = 8301 (0.105 sec)\n"
     ]
    },
    {
     "name": "stdout",
     "output_type": "stream",
     "text": [
      "INFO:tensorflow:global_step/sec: 1006\n",
      "INFO:tensorflow:loss = 1.89001, step = 8401 (0.099 sec)\n",
      "INFO:tensorflow:global_step/sec: 1106.98\n",
      "INFO:tensorflow:loss = 1.84459, step = 8501 (0.091 sec)\n",
      "INFO:tensorflow:global_step/sec: 989.304\n",
      "INFO:tensorflow:loss = 0.833943, step = 8601 (0.101 sec)\n",
      "INFO:tensorflow:global_step/sec: 973.482\n",
      "INFO:tensorflow:loss = 1.32126, step = 8701 (0.102 sec)\n",
      "INFO:tensorflow:global_step/sec: 986.456\n",
      "INFO:tensorflow:loss = 2.48576, step = 8801 (0.102 sec)\n",
      "INFO:tensorflow:global_step/sec: 976.448\n",
      "INFO:tensorflow:loss = 2.15441, step = 8901 (0.102 sec)\n",
      "INFO:tensorflow:global_step/sec: 1002.29\n",
      "INFO:tensorflow:loss = 0.628986, step = 9001 (0.100 sec)\n",
      "INFO:tensorflow:global_step/sec: 1024.72\n",
      "INFO:tensorflow:loss = 1.80563, step = 9101 (0.097 sec)\n",
      "INFO:tensorflow:global_step/sec: 1003.05\n",
      "INFO:tensorflow:loss = 2.59685, step = 9201 (0.099 sec)\n",
      "INFO:tensorflow:global_step/sec: 977.814\n",
      "INFO:tensorflow:loss = 2.13951, step = 9301 (0.103 sec)\n",
      "INFO:tensorflow:global_step/sec: 951.122\n",
      "INFO:tensorflow:loss = 4.50813, step = 9401 (0.104 sec)\n",
      "INFO:tensorflow:global_step/sec: 976.914\n",
      "INFO:tensorflow:loss = 2.4067, step = 9501 (0.103 sec)\n",
      "INFO:tensorflow:global_step/sec: 993.188\n",
      "INFO:tensorflow:loss = 3.05871, step = 9601 (0.102 sec)\n",
      "INFO:tensorflow:global_step/sec: 1012.48\n",
      "INFO:tensorflow:loss = 2.6659, step = 9701 (0.098 sec)\n",
      "INFO:tensorflow:global_step/sec: 949.748\n",
      "INFO:tensorflow:loss = 4.19486, step = 9801 (0.105 sec)\n",
      "INFO:tensorflow:global_step/sec: 900.309\n",
      "INFO:tensorflow:loss = 2.15603, step = 9901 (0.111 sec)\n",
      "INFO:tensorflow:Saving checkpoints for 10000 into /var/folders/jb/jsd15ynn7c7b2c1s8zl3zr380000gn/T/tmpmulflw4b/model.ckpt.\n",
      "INFO:tensorflow:Loss for final step: 0.441797.\n"
     ]
    },
    {
     "data": {
      "text/plain": [
       "<tensorflow.python.estimator.canned.dnn.DNNClassifier at 0x115ada7b8>"
      ]
     },
     "execution_count": 17,
     "metadata": {},
     "output_type": "execute_result"
    }
   ],
   "source": [
    "model.train(input_fn=input_func, steps=n_steps_train)"
   ]
  },
  {
   "cell_type": "markdown",
   "metadata": {},
   "source": [
    "### Evaluate the Model"
   ]
  },
  {
   "cell_type": "code",
   "execution_count": 18,
   "metadata": {},
   "outputs": [
    {
     "name": "stdout",
     "output_type": "stream",
     "text": [
      "WARNING:tensorflow:Casting <dtype: 'float32'> labels to bool.\n",
      "WARNING:tensorflow:Casting <dtype: 'float32'> labels to bool.\n",
      "INFO:tensorflow:Starting evaluation at 2018-01-11-02:35:28\n",
      "INFO:tensorflow:Restoring parameters from /var/folders/jb/jsd15ynn7c7b2c1s8zl3zr380000gn/T/tmpmulflw4b/model.ckpt-10000\n",
      "INFO:tensorflow:Finished evaluation at 2018-01-11-02:35:29\n",
      "INFO:tensorflow:Saving dict for global step 10000: accuracy = 0.91, accuracy_baseline = 0.53, auc = 0.984946, auc_precision_recall = 0.988787, average_loss = 0.192663, global_step = 10000, label/mean = 0.53, loss = 1.92663, prediction/mean = 0.533703\n"
     ]
    },
    {
     "data": {
      "image/png": "[encoded data removed]",
      "text/plain": [
       "<matplotlib.figure.Figure at 0x113a54a90>"
      ]
     },
     "metadata": {
      "image/png": {
       "height": 142,
       "width": 925
      }
     },
     "output_type": "display_data"
    }
   ],
   "source": [
    "# Evaluate the model\n",
    "results = model.evaluate(eval_input_func)\n",
    "\n",
    "# Display the accuracy\n",
    "display_accuracy('10x10x10', results['accuracy'])"
   ]
  },
  {
   "cell_type": "markdown",
   "metadata": {},
   "source": [
    "![](images/title-ann-6-layers.png)\n",
    "<img src=\"images/nn-6-layers.png\" alt=\"Drawing\" style=\"float: center; width: 100%;\"/>"
   ]
  },
  {
   "cell_type": "code",
   "execution_count": 19,
   "metadata": {
    "collapsed": true
   },
   "outputs": [],
   "source": [
    "# =======================\n",
    "#  HYPERPARAMETERS\n",
    "# =======================\n",
    "\n",
    "hidden_units = [10, 10, 10, 10, 10, 10]"
   ]
  },
  {
   "cell_type": "markdown",
   "metadata": {},
   "source": [
    "### Build the Model with 4 hidden layers with 10 neurons each"
   ]
  },
  {
   "cell_type": "code",
   "execution_count": 20,
   "metadata": {},
   "outputs": [
    {
     "name": "stdout",
     "output_type": "stream",
     "text": [
      "INFO:tensorflow:Using default config.\n",
      "WARNING:tensorflow:Using temporary folder as model directory: /var/folders/jb/jsd15ynn7c7b2c1s8zl3zr380000gn/T/tmpkom2kqxg\n",
      "INFO:tensorflow:Using config: {'_model_dir': '/var/folders/jb/jsd15ynn7c7b2c1s8zl3zr380000gn/T/tmpkom2kqxg', '_tf_random_seed': None, '_save_summary_steps': 100, '_save_checkpoints_steps': None, '_save_checkpoints_secs': 600, '_session_config': None, '_keep_checkpoint_max': 5, '_keep_checkpoint_every_n_hours': 10000, '_log_step_count_steps': 100, '_service': None, '_cluster_spec': <tensorflow.python.training.server_lib.ClusterSpec object at 0x10eeed278>, '_task_type': 'worker', '_task_id': 0, '_master': '', '_is_chief': True, '_num_ps_replicas': 0, '_num_worker_replicas': 1}\n"
     ]
    }
   ],
   "source": [
    "model = tf.estimator.DNNClassifier(hidden_units=hidden_units,\n",
    "                                   feature_columns=feat_cols,\n",
    "                                   n_classes=2,\n",
    "                                   activation_fn=tf.nn.relu)"
   ]
  },
  {
   "cell_type": "markdown",
   "metadata": {},
   "source": [
    "### Train the Model"
   ]
  },
  {
   "cell_type": "code",
   "execution_count": 21,
   "metadata": {},
   "outputs": [
    {
     "name": "stdout",
     "output_type": "stream",
     "text": [
      "INFO:tensorflow:Create CheckpointSaverHook.\n",
      "INFO:tensorflow:Saving checkpoints for 1 into /var/folders/jb/jsd15ynn7c7b2c1s8zl3zr380000gn/T/tmpkom2kqxg/model.ckpt.\n",
      "INFO:tensorflow:loss = 6.88311, step = 1\n",
      "INFO:tensorflow:global_step/sec: 692.215\n",
      "INFO:tensorflow:loss = 6.92146, step = 101 (0.145 sec)\n",
      "INFO:tensorflow:global_step/sec: 1098.26\n",
      "INFO:tensorflow:loss = 6.9339, step = 201 (0.091 sec)\n",
      "INFO:tensorflow:global_step/sec: 1130.8\n",
      "INFO:tensorflow:loss = 6.91357, step = 301 (0.088 sec)\n",
      "INFO:tensorflow:global_step/sec: 1110.34\n",
      "INFO:tensorflow:loss = 6.89261, step = 401 (0.090 sec)\n",
      "INFO:tensorflow:global_step/sec: 1108.65\n",
      "INFO:tensorflow:loss = 6.93536, step = 501 (0.090 sec)\n",
      "INFO:tensorflow:global_step/sec: 1109.66\n",
      "INFO:tensorflow:loss = 6.93807, step = 601 (0.090 sec)\n",
      "INFO:tensorflow:global_step/sec: 1105.23\n",
      "INFO:tensorflow:loss = 6.87806, step = 701 (0.090 sec)\n",
      "INFO:tensorflow:global_step/sec: 1135.48\n",
      "INFO:tensorflow:loss = 6.89149, step = 801 (0.088 sec)\n",
      "INFO:tensorflow:global_step/sec: 1113.56\n",
      "INFO:tensorflow:loss = 6.84813, step = 901 (0.090 sec)\n",
      "INFO:tensorflow:global_step/sec: 1074.08\n",
      "INFO:tensorflow:loss = 6.85386, step = 1001 (0.093 sec)\n",
      "INFO:tensorflow:global_step/sec: 1132.37\n",
      "INFO:tensorflow:loss = 7.02272, step = 1101 (0.088 sec)\n",
      "INFO:tensorflow:global_step/sec: 1132.81\n",
      "INFO:tensorflow:loss = 6.91548, step = 1201 (0.089 sec)\n",
      "INFO:tensorflow:global_step/sec: 1081.08\n",
      "INFO:tensorflow:loss = 6.79893, step = 1301 (0.092 sec)\n",
      "INFO:tensorflow:global_step/sec: 1089.42\n",
      "INFO:tensorflow:loss = 6.73489, step = 1401 (0.092 sec)\n",
      "INFO:tensorflow:global_step/sec: 1080.84\n",
      "INFO:tensorflow:loss = 7.11588, step = 1501 (0.093 sec)\n",
      "INFO:tensorflow:global_step/sec: 1082.4\n",
      "INFO:tensorflow:loss = 6.63543, step = 1601 (0.092 sec)\n",
      "INFO:tensorflow:global_step/sec: 1086.26\n",
      "INFO:tensorflow:loss = 6.28327, step = 1701 (0.092 sec)\n",
      "INFO:tensorflow:global_step/sec: 1099.87\n",
      "INFO:tensorflow:loss = 4.24518, step = 1801 (0.091 sec)\n",
      "INFO:tensorflow:global_step/sec: 1100.96\n",
      "INFO:tensorflow:loss = 1.76463, step = 1901 (0.091 sec)\n",
      "INFO:tensorflow:global_step/sec: 1018.81\n",
      "INFO:tensorflow:loss = 0.196932, step = 2001 (0.098 sec)\n",
      "INFO:tensorflow:global_step/sec: 979.669\n",
      "INFO:tensorflow:loss = 2.47692, step = 2101 (0.103 sec)\n",
      "INFO:tensorflow:global_step/sec: 989.944\n",
      "INFO:tensorflow:loss = 0.53461, step = 2201 (0.100 sec)\n",
      "INFO:tensorflow:global_step/sec: 1068.11\n",
      "INFO:tensorflow:loss = 0.0978651, step = 2301 (0.094 sec)\n",
      "INFO:tensorflow:global_step/sec: 1069.64\n",
      "INFO:tensorflow:loss = 1.31677, step = 2401 (0.093 sec)\n",
      "INFO:tensorflow:global_step/sec: 1096.41\n",
      "INFO:tensorflow:loss = 0.59301, step = 2501 (0.091 sec)\n",
      "INFO:tensorflow:global_step/sec: 1017.68\n",
      "INFO:tensorflow:loss = 0.867627, step = 2601 (0.098 sec)\n",
      "INFO:tensorflow:global_step/sec: 1080.67\n",
      "INFO:tensorflow:loss = 0.882521, step = 2701 (0.093 sec)\n",
      "INFO:tensorflow:global_step/sec: 1119.1\n",
      "INFO:tensorflow:loss = 0.00871878, step = 2801 (0.089 sec)\n",
      "INFO:tensorflow:global_step/sec: 1080.67\n",
      "INFO:tensorflow:loss = 0.0365715, step = 2901 (0.093 sec)\n",
      "INFO:tensorflow:global_step/sec: 1022.86\n",
      "INFO:tensorflow:loss = 0.0202944, step = 3001 (0.098 sec)\n",
      "INFO:tensorflow:global_step/sec: 911.27\n",
      "INFO:tensorflow:loss = 0.347209, step = 3101 (0.110 sec)\n",
      "INFO:tensorflow:global_step/sec: 944.74\n",
      "INFO:tensorflow:loss = 0.347017, step = 3201 (0.106 sec)\n",
      "INFO:tensorflow:global_step/sec: 1049.77\n",
      "INFO:tensorflow:loss = 0.00938427, step = 3301 (0.096 sec)\n",
      "INFO:tensorflow:global_step/sec: 1024.45\n",
      "INFO:tensorflow:loss = 0.0234597, step = 3401 (0.097 sec)\n",
      "INFO:tensorflow:global_step/sec: 1081.91\n",
      "INFO:tensorflow:loss = 0.579871, step = 3501 (0.093 sec)\n",
      "INFO:tensorflow:global_step/sec: 878.026\n",
      "INFO:tensorflow:loss = 0.0117204, step = 3601 (0.114 sec)\n",
      "INFO:tensorflow:global_step/sec: 870.836\n",
      "INFO:tensorflow:loss = 0.198793, step = 3701 (0.115 sec)\n",
      "INFO:tensorflow:global_step/sec: 898.788\n",
      "INFO:tensorflow:loss = 0.00156152, step = 3801 (0.111 sec)\n",
      "INFO:tensorflow:global_step/sec: 890.338\n",
      "INFO:tensorflow:loss = 0.720998, step = 3901 (0.112 sec)\n",
      "INFO:tensorflow:global_step/sec: 846.903\n",
      "INFO:tensorflow:loss = 0.0994273, step = 4001 (0.118 sec)\n",
      "INFO:tensorflow:global_step/sec: 785.084\n",
      "INFO:tensorflow:loss = 0.255948, step = 4101 (0.128 sec)\n",
      "INFO:tensorflow:global_step/sec: 1060.94\n",
      "INFO:tensorflow:loss = 0.521798, step = 4201 (0.094 sec)\n",
      "INFO:tensorflow:global_step/sec: 1017.67\n",
      "INFO:tensorflow:loss = 0.11189, step = 4301 (0.098 sec)\n",
      "INFO:tensorflow:global_step/sec: 1076.7\n",
      "INFO:tensorflow:loss = 0.517421, step = 4401 (0.093 sec)\n",
      "INFO:tensorflow:global_step/sec: 1077.05\n",
      "INFO:tensorflow:loss = 1.13838, step = 4501 (0.093 sec)\n",
      "INFO:tensorflow:global_step/sec: 946.834\n",
      "INFO:tensorflow:loss = 1.60043, step = 4601 (0.106 sec)\n",
      "INFO:tensorflow:global_step/sec: 934.258\n",
      "INFO:tensorflow:loss = 0.127101, step = 4701 (0.107 sec)\n",
      "INFO:tensorflow:global_step/sec: 901.412\n",
      "INFO:tensorflow:loss = 1.70287, step = 4801 (0.112 sec)\n",
      "INFO:tensorflow:global_step/sec: 828.585\n",
      "INFO:tensorflow:loss = 0.00215199, step = 4901 (0.120 sec)\n",
      "INFO:tensorflow:global_step/sec: 846.932\n",
      "INFO:tensorflow:loss = 1.30518, step = 5001 (0.118 sec)\n",
      "INFO:tensorflow:global_step/sec: 900.309\n",
      "INFO:tensorflow:loss = 0.00197918, step = 5101 (0.111 sec)\n",
      "INFO:tensorflow:global_step/sec: 844.681\n",
      "INFO:tensorflow:loss = 0.0298269, step = 5201 (0.118 sec)\n",
      "INFO:tensorflow:global_step/sec: 867.506\n",
      "INFO:tensorflow:loss = 0.462524, step = 5301 (0.115 sec)\n",
      "INFO:tensorflow:global_step/sec: 901.722\n",
      "INFO:tensorflow:loss = 0.000763297, step = 5401 (0.111 sec)\n",
      "INFO:tensorflow:global_step/sec: 927.662\n",
      "INFO:tensorflow:loss = 0.000563588, step = 5501 (0.107 sec)\n",
      "INFO:tensorflow:global_step/sec: 1019.22\n",
      "INFO:tensorflow:loss = 0.000744802, step = 5601 (0.098 sec)\n",
      "INFO:tensorflow:global_step/sec: 1033.79\n",
      "INFO:tensorflow:loss = 0.373785, step = 5701 (0.097 sec)\n",
      "INFO:tensorflow:global_step/sec: 992.587\n",
      "INFO:tensorflow:loss = 0.365736, step = 5801 (0.103 sec)\n",
      "INFO:tensorflow:global_step/sec: 802.523\n",
      "INFO:tensorflow:loss = 0.231706, step = 5901 (0.124 sec)\n",
      "INFO:tensorflow:global_step/sec: 839.504\n",
      "INFO:tensorflow:loss = 0.00511736, step = 6001 (0.119 sec)\n",
      "INFO:tensorflow:global_step/sec: 839.793\n",
      "INFO:tensorflow:loss = 0.0141375, step = 6101 (0.120 sec)\n",
      "INFO:tensorflow:global_step/sec: 868.832\n",
      "INFO:tensorflow:loss = 0.000744019, step = 6201 (0.115 sec)\n",
      "INFO:tensorflow:global_step/sec: 849.755\n",
      "INFO:tensorflow:loss = 0.000322778, step = 6301 (0.118 sec)\n",
      "INFO:tensorflow:global_step/sec: 916.976\n",
      "INFO:tensorflow:loss = 0.653522, step = 6401 (0.108 sec)\n",
      "INFO:tensorflow:global_step/sec: 921.396\n",
      "INFO:tensorflow:loss = 0.142946, step = 6501 (0.109 sec)\n",
      "INFO:tensorflow:global_step/sec: 860.268\n",
      "INFO:tensorflow:loss = 0.469815, step = 6601 (0.116 sec)\n",
      "INFO:tensorflow:global_step/sec: 925.094\n",
      "INFO:tensorflow:loss = 0.00221249, step = 6701 (0.109 sec)\n",
      "INFO:tensorflow:global_step/sec: 826.078\n",
      "INFO:tensorflow:loss = 0.0162582, step = 6801 (0.121 sec)\n",
      "INFO:tensorflow:global_step/sec: 844.274\n",
      "INFO:tensorflow:loss = 0.00312811, step = 6901 (0.118 sec)\n",
      "INFO:tensorflow:global_step/sec: 836.786\n",
      "INFO:tensorflow:loss = 0.485377, step = 7001 (0.119 sec)\n",
      "INFO:tensorflow:global_step/sec: 896.192\n",
      "INFO:tensorflow:loss = 0.00356629, step = 7101 (0.111 sec)\n",
      "INFO:tensorflow:global_step/sec: 921.058\n",
      "INFO:tensorflow:loss = 0.000617308, step = 7201 (0.109 sec)\n",
      "INFO:tensorflow:global_step/sec: 865.321\n",
      "INFO:tensorflow:loss = 0.418528, step = 7301 (0.116 sec)\n",
      "INFO:tensorflow:global_step/sec: 844.672\n",
      "INFO:tensorflow:loss = 0.312546, step = 7401 (0.118 sec)\n",
      "INFO:tensorflow:global_step/sec: 854.3\n",
      "INFO:tensorflow:loss = 0.228276, step = 7501 (0.118 sec)\n",
      "INFO:tensorflow:global_step/sec: 877.156\n",
      "INFO:tensorflow:loss = 0.153425, step = 7601 (0.114 sec)\n",
      "INFO:tensorflow:global_step/sec: 875.672\n",
      "INFO:tensorflow:loss = 0.0255215, step = 7701 (0.114 sec)\n",
      "INFO:tensorflow:global_step/sec: 910.232\n",
      "INFO:tensorflow:loss = 0.473556, step = 7801 (0.110 sec)\n",
      "INFO:tensorflow:global_step/sec: 877.886\n",
      "INFO:tensorflow:loss = 0.000447875, step = 7901 (0.114 sec)\n",
      "INFO:tensorflow:global_step/sec: 839.674\n",
      "INFO:tensorflow:loss = 0.00166589, step = 8001 (0.119 sec)\n",
      "INFO:tensorflow:global_step/sec: 853.241\n",
      "INFO:tensorflow:loss = 0.466749, step = 8101 (0.118 sec)\n",
      "INFO:tensorflow:global_step/sec: 841.723\n",
      "INFO:tensorflow:loss = 0.0149133, step = 8201 (0.118 sec)\n"
     ]
    },
    {
     "name": "stdout",
     "output_type": "stream",
     "text": [
      "INFO:tensorflow:global_step/sec: 845.936\n",
      "INFO:tensorflow:loss = 0.0102793, step = 8301 (0.118 sec)\n",
      "INFO:tensorflow:global_step/sec: 849.806\n",
      "INFO:tensorflow:loss = 0.13614, step = 8401 (0.118 sec)\n",
      "INFO:tensorflow:global_step/sec: 1034.56\n",
      "INFO:tensorflow:loss = 0.138119, step = 8501 (0.096 sec)\n",
      "INFO:tensorflow:global_step/sec: 1096.79\n",
      "INFO:tensorflow:loss = 0.00443457, step = 8601 (0.091 sec)\n",
      "INFO:tensorflow:global_step/sec: 1077.91\n",
      "INFO:tensorflow:loss = 0.361501, step = 8701 (0.093 sec)\n",
      "INFO:tensorflow:global_step/sec: 863.447\n",
      "INFO:tensorflow:loss = 0.958592, step = 8801 (0.116 sec)\n",
      "INFO:tensorflow:global_step/sec: 910.665\n",
      "INFO:tensorflow:loss = 0.363402, step = 8901 (0.112 sec)\n",
      "INFO:tensorflow:global_step/sec: 845.464\n",
      "INFO:tensorflow:loss = 0.00548727, step = 9001 (0.117 sec)\n",
      "INFO:tensorflow:global_step/sec: 857.685\n",
      "INFO:tensorflow:loss = 0.000673305, step = 9101 (0.116 sec)\n",
      "INFO:tensorflow:global_step/sec: 891.534\n",
      "INFO:tensorflow:loss = 0.00043524, step = 9201 (0.113 sec)\n",
      "INFO:tensorflow:global_step/sec: 886.88\n",
      "INFO:tensorflow:loss = 0.105688, step = 9301 (0.112 sec)\n",
      "INFO:tensorflow:global_step/sec: 784.142\n",
      "INFO:tensorflow:loss = 0.00239727, step = 9401 (0.128 sec)\n",
      "INFO:tensorflow:global_step/sec: 860.829\n",
      "INFO:tensorflow:loss = 0.000776011, step = 9501 (0.116 sec)\n",
      "INFO:tensorflow:global_step/sec: 1021.53\n",
      "INFO:tensorflow:loss = 0.000312832, step = 9601 (0.099 sec)\n",
      "INFO:tensorflow:global_step/sec: 760.827\n",
      "INFO:tensorflow:loss = 0.338274, step = 9701 (0.131 sec)\n",
      "INFO:tensorflow:global_step/sec: 857.095\n",
      "INFO:tensorflow:loss = 0.000241151, step = 9801 (0.117 sec)\n",
      "INFO:tensorflow:global_step/sec: 901.747\n",
      "INFO:tensorflow:loss = 0.0023607, step = 9901 (0.110 sec)\n",
      "INFO:tensorflow:Saving checkpoints for 10000 into /var/folders/jb/jsd15ynn7c7b2c1s8zl3zr380000gn/T/tmpkom2kqxg/model.ckpt.\n",
      "INFO:tensorflow:Loss for final step: 0.343021.\n"
     ]
    },
    {
     "data": {
      "text/plain": [
       "<tensorflow.python.estimator.canned.dnn.DNNClassifier at 0x10eeed908>"
      ]
     },
     "execution_count": 21,
     "metadata": {},
     "output_type": "execute_result"
    }
   ],
   "source": [
    "model.train(input_fn=input_func, steps=n_steps_train)"
   ]
  },
  {
   "cell_type": "markdown",
   "metadata": {},
   "source": [
    "### Evaluate the Model"
   ]
  },
  {
   "cell_type": "code",
   "execution_count": 23,
   "metadata": {},
   "outputs": [
    {
     "name": "stdout",
     "output_type": "stream",
     "text": [
      "WARNING:tensorflow:Casting <dtype: 'float32'> labels to bool.\n",
      "WARNING:tensorflow:Casting <dtype: 'float32'> labels to bool.\n",
      "INFO:tensorflow:Starting evaluation at 2018-01-11-02:36:08\n",
      "INFO:tensorflow:Restoring parameters from /var/folders/jb/jsd15ynn7c7b2c1s8zl3zr380000gn/T/tmpkom2kqxg/model.ckpt-10000\n",
      "INFO:tensorflow:Finished evaluation at 2018-01-11-02:36:09\n",
      "INFO:tensorflow:Saving dict for global step 10000: accuracy = 1.0, accuracy_baseline = 0.53, auc = 1.0, auc_precision_recall = 1.0, average_loss = 0.0256762, global_step = 10000, label/mean = 0.53, loss = 0.256762, prediction/mean = 0.512385\n"
     ]
    },
    {
     "data": {
      "image/png": "[encoded data removed]",
      "text/plain": [
       "<matplotlib.figure.Figure at 0x1151e9d30>"
      ]
     },
     "metadata": {
      "image/png": {
       "height": 142,
       "width": 914
      }
     },
     "output_type": "display_data"
    }
   ],
   "source": [
    "# Evaluate the model\n",
    "results = model.evaluate(eval_input_func)\n",
    "\n",
    "# Display the accuracy\n",
    "display_accuracy('6-layer x 10', results['accuracy'])"
   ]
  },
  {
   "cell_type": "markdown",
   "metadata": {},
   "source": [
    "![](images/title-lstm-1.png)\n",
    "<img src=\"images/lstm-1-cell.png\" alt=\"Drawing\" style=\"float: center; height: 300px;\"/>\n",
    "![](images/title-lstm-unrolled.png)\n",
    "<img src=\"images/lstm-1-unrolled.png\" alt=\"Drawing\" style=\"float: center; height: 400px;\"/>"
   ]
  },
  {
   "cell_type": "code",
   "execution_count": 27,
   "metadata": {
    "collapsed": true
   },
   "outputs": [],
   "source": [
    "# =======================\n",
    "#  HYPERPARAMETERS\n",
    "# =======================\n",
    "\n",
    "lstm_cells = 1\n",
    "max_seq_length = 101\n",
    "n_samples_train = 10000\n",
    "n_samples_test = 100\n",
    "\n",
    "n_classes = 1\n",
    "input_dim = 1"
   ]
  },
  {
   "cell_type": "markdown",
   "metadata": {},
   "source": [
    "### Build the Model"
   ]
  },
  {
   "cell_type": "code",
   "execution_count": 28,
   "metadata": {
    "collapsed": true
   },
   "outputs": [],
   "source": [
    "model = Sequential()\n",
    "model.add(LSTM(lstm_cells, input_shape=(None, input_dim)))\n",
    "model.add(Dense(n_classes, activation='sigmoid'))\n",
    "model.compile(loss='binary_crossentropy', optimizer='rmsprop', metrics=['accuracy'])"
   ]
  },
  {
   "cell_type": "markdown",
   "metadata": {},
   "source": [
    "### Train the Model"
   ]
  },
  {
   "cell_type": "code",
   "execution_count": 29,
   "metadata": {},
   "outputs": [
    {
     "data": {
      "application/vnd.jupyter.widget-view+json": {
       "model_id": "134573b7332046828d252de4b5971383",
       "version_major": 2,
       "version_minor": 0
      },
      "text/html": [
       "<p>Failed to display Jupyter Widget of type <code>Box</code>.</p>\n",
       "<p>\n",
       "  If you're reading this message in the Jupyter Notebook or JupyterLab Notebook, it may mean\n",
       "  that the widgets JavaScript is still loading. If this message persists, it\n",
       "  likely means that the widgets JavaScript library is either not installed or\n",
       "  not enabled. See the <a href=\"https://ipywidgets.readthedocs.io/en/stable/user_install.html\">Jupyter\n",
       "  Widgets Documentation</a> for setup instructions.\n",
       "</p>\n",
       "<p>\n",
       "  If you're reading this message in another frontend (for example, a static\n",
       "  rendering on GitHub or <a href=\"https://nbviewer.jupyter.org/\">NBViewer</a>),\n",
       "  it may mean that your frontend doesn't currently support widgets.\n",
       "</p>\n"
      ],
      "text/plain": [
       "Box(children=(Box(children=(Button(description='Learning Sequence', style=ButtonStyle(button_color='lightgreen', font_weight='bold')),), layout=Layout(display='flex', flex='0 0 auto', flex_flow='row', width='150px')), HTML(value='')), layout=Layout(align_content='flex-start', align_items='flex-start', display='flex', flex_flow='row', width='100%'))"
      ]
     },
     "metadata": {},
     "output_type": "display_data"
    },
    {
     "data": {
      "application/vnd.jupyter.widget-view+json": {
       "model_id": "b501d9dc93cd45e1ae6283fa6e28d5d2",
       "version_major": 2,
       "version_minor": 0
      },
      "text/html": [
       "<p>Failed to display Jupyter Widget of type <code>Box</code>.</p>\n",
       "<p>\n",
       "  If you're reading this message in the Jupyter Notebook or JupyterLab Notebook, it may mean\n",
       "  that the widgets JavaScript is still loading. If this message persists, it\n",
       "  likely means that the widgets JavaScript library is either not installed or\n",
       "  not enabled. See the <a href=\"https://ipywidgets.readthedocs.io/en/stable/user_install.html\">Jupyter\n",
       "  Widgets Documentation</a> for setup instructions.\n",
       "</p>\n",
       "<p>\n",
       "  If you're reading this message in another frontend (for example, a static\n",
       "  rendering on GitHub or <a href=\"https://nbviewer.jupyter.org/\">NBViewer</a>),\n",
       "  it may mean that your frontend doesn't currently support widgets.\n",
       "</p>\n"
      ],
      "text/plain": [
       "Box(box_style='info', children=(HBox(children=(HTML(value='Accuracy'), FloatProgress(value=0.0, max=1.0))), HBox(children=(HTML(value='Loss'), FloatProgress(value=0.0, max=1.0)))), layout=Layout(align_items='stretch', border='1px solid #48A7F2', display='flex', flex_flow='row', justify_content='space-around', width='100%'))"
      ]
     },
     "metadata": {},
     "output_type": "display_data"
    }
   ],
   "source": [
    "widget_builder = WidgetBuilder()\n",
    "learned_seq_widget = widget_builder.build_learned_seq_widget()\n",
    "stats_widget = widget_builder.build_stats_widget()\n",
    "display(learned_seq_widget)\n",
    "display(stats_widget)\n",
    "\n",
    "for seq_len in range(1, max_seq_length, 1):\n",
    "    # Update the sequence being learned\n",
    "    widget_builder.learned_seq.value += ' {}'.format(seq_len)\n",
    "    \n",
    "    # Generate random parity sequences of incrementing length\n",
    "    X_train = ParitySequenceData(n_samples=n_samples_train, seq_len=seq_len, ndmin=3)\n",
    "    X_test = ParitySequenceData(n_samples=n_samples_test, seq_len=seq_len, ndmin=3)\n",
    "\n",
    "    while True:\n",
    "        # Evaluate the model\n",
    "        score = model.evaluate(X_test.data, X_test.labels, verbose=0)[1]\n",
    "        \n",
    "        # Stop training once accuracy reaches 100% for this sequence length\n",
    "        if score == 1.0:\n",
    "            break\n",
    "        \n",
    "        # Train the model\n",
    "        h = model.fit(X_train.data, X_train.labels, epochs=1, validation_split=0.1, verbose=0)\n",
    "        \n",
    "        # Display the current loss and accuracy statistics\n",
    "        h = h.history\n",
    "        widget_builder.acc_bar.value = h['val_acc'][-1]\n",
    "        widget_builder.loss_bar.value = h['val_loss'][-1]"
   ]
  },
  {
   "cell_type": "markdown",
   "metadata": {},
   "source": [
    "&nbsp;\n",
    "\n",
    "&nbsp;\n",
    "![](images/title-infer-3.png)\n",
    "<img src=\"images/example-3.png\" alt=\"Drawing\" style=\"float: left; height: 125px;\"/>"
   ]
  },
  {
   "cell_type": "code",
   "execution_count": 33,
   "metadata": {
    "scrolled": true
   },
   "outputs": [
    {
     "name": "stdout",
     "output_type": "stream",
     "text": [
      "Generated Sequence:      EVEN number of 1s\n",
      "Prediction:              EVEN number of 1s\n"
     ]
    }
   ],
   "source": [
    "# Specify a number sequence of 1s and 0s\n",
    "num_seq = np.array([[[0], [1], [1]]])\n",
    "\n",
    "# Print out the ground truth\n",
    "echo_even_or_odd('Generated Sequence:', num_seq)\n",
    "\n",
    "# Use the trained model to infer the class -- is the parity even or odd?\n",
    "predicted_class = model.predict_classes(num_seq)\n",
    "\n",
    "# Print out the ground truth and prediction\n",
    "echo_even_or_odd('Prediction:',         predicted_class)"
   ]
  },
  {
   "cell_type": "markdown",
   "metadata": {},
   "source": [
    "&nbsp;\n",
    "\n",
    "&nbsp;\n",
    "![](images/title-infer-10.png)\n",
    "<img src=\"images/example-10.png\" alt=\"Drawing\" style=\"float: left; height: 125px;\"/>"
   ]
  },
  {
   "cell_type": "code",
   "execution_count": 35,
   "metadata": {},
   "outputs": [
    {
     "name": "stdout",
     "output_type": "stream",
     "text": [
      "Generated Sequence:      ODD number of 1s\n",
      "Prediction:              ODD number of 1s\n"
     ]
    }
   ],
   "source": [
    "# Specify a number sequence of 1s and 0s\n",
    "num_seq = np.array([[[0], [1], [0], [1], [0], [1], [1], [0], [1], [0]]])\n",
    "\n",
    "# Print out the ground truth\n",
    "echo_even_or_odd('Generated Sequence:', num_seq)\n",
    "\n",
    "# Use the trained model to infer the class -- is the parity even or odd?\n",
    "predicted_class = model.predict_classes(num_seq)\n",
    "\n",
    "# Print out the ground truth and prediction\n",
    "echo_even_or_odd('Prediction:',         predicted_class)"
   ]
  },
  {
   "cell_type": "markdown",
   "metadata": {},
   "source": [
    "&nbsp;\n",
    "\n",
    "&nbsp;\n",
    "![](images/title-infer-10k.png)"
   ]
  },
  {
   "cell_type": "code",
   "execution_count": 32,
   "metadata": {},
   "outputs": [
    {
     "name": "stdout",
     "output_type": "stream",
     "text": [
      "Generated Sequence:      EVEN number of 1s\n",
      "Prediction:              EVEN number of 1s\n"
     ]
    }
   ],
   "source": [
    "# Specify a number sequence of 1s and 0s\n",
    "num_seq = np.random.randint(0, 2, (1, 10000, 1))\n",
    "\n",
    "# Print out the ground truth\n",
    "echo_even_or_odd('Generated Sequence:', num_seq)\n",
    "\n",
    "# Use the trained model to infer the class -- is the parity even or odd?\n",
    "predicted_class = model.predict_classes(num_seq)\n",
    "\n",
    "# Print out the prediction\n",
    "echo_even_or_odd('Prediction:', predicted_class)"
   ]
  }
 ],
 "metadata": {
  "kernelspec": {
   "display_name": "Python [conda env:tfsrc]",
   "language": "python",
   "name": "conda-env-tfsrc-py"
  },
  "language_info": {
   "codemirror_mode": {
    "name": "ipython",
    "version": 3
   },
   "file_extension": ".py",
   "mimetype": "text/x-python",
   "name": "python",
   "nbconvert_exporter": "python",
   "pygments_lexer": "ipython3",
   "version": "3.6.2"
  }
 },
 "nbformat": 4,
 "nbformat_minor": 2
}
